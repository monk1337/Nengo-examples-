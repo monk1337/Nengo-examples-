{
  "nbformat": 4,
  "nbformat_minor": 0,
  "metadata": {
    "colab": {
      "name": "ydiscrete_sequential.ipynb",
      "version": "0.3.2",
      "views": {},
      "default_view": {},
      "provenance": [
        {
          "file_id": "13pteWJnWl5OxR7ofmZrFs2GBFO2O_S9J",
          "timestamp": 1532012273221
        },
        {
          "file_id": "1XzOKIhI1yNMQ-1eiemE9O07PcHgqyVJ6",
          "timestamp": 1532009364371
        },
        {
          "file_id": "1CBMtxXBxm1dSiI8sQ0xQ_gKGOh5UGT4U",
          "timestamp": 1531930526936
        }
      ],
      "collapsed_sections": []
    },
    "kernelspec": {
      "name": "python3",
      "display_name": "Python 3"
    }
  },
  "cells": [
    {
      "metadata": {
        "id": "Y-mYm3fSFVlg",
        "colab_type": "code",
        "colab": {
          "autoexec": {
            "startup": false,
            "wait_interval": 0
          }
        }
      },
      "cell_type": "code",
      "source": [
        "\n",
        "%matplotlib inline\n",
        "import nengo\n",
        "from nengo.dists import Uniform\n",
        "from nengo.utils.ensemble import response_curves\n",
        "import numpy as np\n",
        "import matplotlib.pyplot as plt\n",
        "\n",
        "\n",
        "\n"
      ],
      "execution_count": 0,
      "outputs": []
    },
    {
      "metadata": {
        "id": "LIP32YoeFeBx",
        "colab_type": "code",
        "colab": {
          "autoexec": {
            "startup": false,
            "wait_interval": 0
          },
          "base_uri": "https://localhost:8080/",
          "height": 317
        },
        "outputId": "29e133ef-1df8-403c-eff1-7a23f7e92945",
        "executionInfo": {
          "status": "ok",
          "timestamp": 1532009088548,
          "user_tz": -330,
          "elapsed": 2995,
          "user": {
            "displayName": "Monk Programmer",
            "photoUrl": "//lh3.googleusercontent.com/-oZIiEwyeGXQ/AAAAAAAAAAI/AAAAAAAAABk/1Keui-aWphI/s50-c-k-no/photo.jpg",
            "userId": "115339632766677951856"
          }
        }
      },
      "cell_type": "code",
      "source": [
        "def generateData(n):\n",
        "    \"\"\" \n",
        "    generates a 2D dataset with n samples. \n",
        "    The third element of the sample is the label\n",
        "    \"\"\"\n",
        "    xb = np.random.randint(4,100,[n])\n",
        "    yb = np.random.randint(4,100,[n])\n",
        "    xg = np.random.randint(100,200,[n])\n",
        "    yg = np.random.randint(100,200,[n])\n",
        "    \n",
        "    inputs = []\n",
        "    for i in range(len(xb)):\n",
        "      \n",
        "      try:\n",
        "        inputs.append([xb[i],yb[i],xb[i+1],yb[i+1],[0,1]])\n",
        "        inputs.append([xg[i],yg[i],xg[i+1],yg[i+1],[1,0]])\n",
        "      except Exception:\n",
        "        pass\n",
        "    print(inputs)\n",
        "    return inputs\n",
        "\n",
        "\n",
        "samples = 60\n",
        "data = generateData(samples)\n",
        "plt.figure()\n",
        "plt.title(\"Input sample points from the two classes\")\n",
        "for x in data:\n",
        "    if x[4][0] == 1:\n",
        "        plt.plot(x[0], x[1], 'og')\n",
        "    elif x[4][1] == 1:\n",
        "        plt.plot(x[0], x[1], 'ob')\n",
        "    else:\n",
        "        plt.plot(x[0], x[1], 'om')"
      ],
      "execution_count": 0,
      "outputs": [
        {
          "output_type": "stream",
          "text": [
            "[[42, 10, 30, 51, [0, 1]], [118, 128, 154, 151, [1, 0]], [30, 51, 37, 62, [0, 1]], [154, 151, 128, 115, [1, 0]], [37, 62, 43, 77, [0, 1]], [128, 115, 110, 141, [1, 0]], [43, 77, 27, 98, [0, 1]], [110, 141, 180, 156, [1, 0]], [27, 98, 67, 38, [0, 1]], [180, 156, 138, 180, [1, 0]], [67, 38, 38, 46, [0, 1]], [138, 180, 174, 175, [1, 0]], [38, 46, 77, 35, [0, 1]], [174, 175, 144, 137, [1, 0]], [77, 35, 69, 38, [0, 1]], [144, 137, 131, 100, [1, 0]], [69, 38, 40, 15, [0, 1]], [131, 100, 193, 112, [1, 0]], [40, 15, 41, 95, [0, 1]], [193, 112, 130, 153, [1, 0]], [41, 95, 98, 34, [0, 1]], [130, 153, 170, 165, [1, 0]], [98, 34, 50, 5, [0, 1]], [170, 165, 129, 130, [1, 0]], [50, 5, 61, 57, [0, 1]], [129, 130, 117, 170, [1, 0]], [61, 57, 89, 47, [0, 1]], [117, 170, 165, 146, [1, 0]], [89, 47, 20, 77, [0, 1]], [165, 146, 110, 109, [1, 0]], [20, 77, 63, 17, [0, 1]], [110, 109, 141, 120, [1, 0]], [63, 17, 75, 74, [0, 1]], [141, 120, 179, 190, [1, 0]], [75, 74, 18, 69, [0, 1]], [179, 190, 175, 110, [1, 0]], [18, 69, 38, 48, [0, 1]], [175, 110, 133, 175, [1, 0]], [38, 48, 79, 14, [0, 1]], [133, 175, 102, 120, [1, 0]], [79, 14, 85, 73, [0, 1]], [102, 120, 178, 116, [1, 0]], [85, 73, 48, 83, [0, 1]], [178, 116, 189, 105, [1, 0]], [48, 83, 59, 11, [0, 1]], [189, 105, 149, 133, [1, 0]], [59, 11, 87, 11, [0, 1]], [149, 133, 114, 125, [1, 0]], [87, 11, 11, 9, [0, 1]], [114, 125, 124, 174, [1, 0]], [11, 9, 65, 14, [0, 1]], [124, 174, 122, 121, [1, 0]], [65, 14, 19, 95, [0, 1]], [122, 121, 147, 124, [1, 0]], [19, 95, 51, 38, [0, 1]], [147, 124, 109, 196, [1, 0]], [51, 38, 69, 32, [0, 1]], [109, 196, 131, 188, [1, 0]], [69, 32, 19, 91, [0, 1]], [131, 188, 139, 191, [1, 0]], [19, 91, 22, 43, [0, 1]], [139, 191, 105, 160, [1, 0]], [22, 43, 68, 12, [0, 1]], [105, 160, 146, 133, [1, 0]], [68, 12, 26, 31, [0, 1]], [146, 133, 102, 195, [1, 0]], [26, 31, 36, 31, [0, 1]], [102, 195, 163, 158, [1, 0]], [36, 31, 91, 44, [0, 1]], [163, 158, 191, 159, [1, 0]], [91, 44, 74, 80, [0, 1]], [191, 159, 188, 104, [1, 0]], [74, 80, 53, 4, [0, 1]], [188, 104, 197, 198, [1, 0]], [53, 4, 33, 69, [0, 1]], [197, 198, 166, 160, [1, 0]], [33, 69, 81, 15, [0, 1]], [166, 160, 193, 120, [1, 0]], [81, 15, 26, 44, [0, 1]], [193, 120, 189, 101, [1, 0]], [26, 44, 29, 22, [0, 1]], [189, 101, 172, 135, [1, 0]], [29, 22, 79, 98, [0, 1]], [172, 135, 107, 150, [1, 0]], [79, 98, 73, 89, [0, 1]], [107, 150, 148, 134, [1, 0]], [73, 89, 14, 51, [0, 1]], [148, 134, 153, 137, [1, 0]], [14, 51, 95, 36, [0, 1]], [153, 137, 131, 192, [1, 0]], [95, 36, 21, 12, [0, 1]], [131, 192, 123, 101, [1, 0]], [21, 12, 74, 11, [0, 1]], [123, 101, 188, 172, [1, 0]], [74, 11, 70, 21, [0, 1]], [188, 172, 178, 153, [1, 0]], [70, 21, 42, 81, [0, 1]], [178, 153, 119, 134, [1, 0]], [42, 81, 44, 42, [0, 1]], [119, 134, 187, 171, [1, 0]], [44, 42, 25, 14, [0, 1]], [187, 171, 170, 117, [1, 0]], [25, 14, 94, 20, [0, 1]], [170, 117, 147, 162, [1, 0]], [94, 20, 27, 95, [0, 1]], [147, 162, 199, 102, [1, 0]], [27, 95, 9, 95, [0, 1]], [199, 102, 151, 168, [1, 0]], [9, 95, 73, 53, [0, 1]], [151, 168, 114, 195, [1, 0]], [73, 53, 71, 24, [0, 1]], [114, 195, 195, 175, [1, 0]], [71, 24, 53, 34, [0, 1]], [195, 175, 169, 169, [1, 0]], [53, 34, 97, 20, [0, 1]], [169, 169, 162, 175, [1, 0]], [97, 20, 24, 61, [0, 1]], [162, 175, 188, 143, [1, 0]]]\n"
          ],
          "name": "stdout"
        },
        {
          "output_type": "display_data",
          "data": {
            "image/png": "[encoded data removed]",
            "text/plain": [
              "<matplotlib.figure.Figure at 0x7f99eb727e80>"
            ]
          },
          "metadata": {
            "tags": []
          }
        }
      ]
    },
    {
      "metadata": {
        "id": "huM7rJBvFv7_",
        "colab_type": "code",
        "colab": {
          "autoexec": {
            "startup": false,
            "wait_interval": 0
          }
        }
      },
      "cell_type": "code",
      "source": [
        "N = 100 #number of neurons\n",
        "D_inp = 2\n",
        "D_out = 2\n",
        "factor = 11.0/12.0\n",
        "sim_time = samples\n",
        "model = nengo.Network('2-class Classification')\n",
        "weights = np.random.randn(D_inp,D_out).transpose()  \n",
        "\n",
        "with model:  \n",
        "    \n",
        "    def stim(t):\n",
        "        for i in range(samples):\n",
        "            if int(t) % samples <= i:\n",
        "                return [data[i][0], data[i][1]]\n",
        "        return 0\n",
        "    \n",
        "        \n",
        "    def stim_ans(t):\n",
        "        for i in range(samples):\n",
        "            if int(t) % samples <= i:\n",
        "                return data[i][2]\n",
        "        return 0   \n",
        "    \n",
        "    \n",
        "    #Define network inputs\n",
        "    stim = nengo.Node(output=stim, size_out=D_inp)\n",
        "    stim_ans = nengo.Node(output=stim_ans, size_out=D_out)\n",
        "    \n",
        "    #Create neural ensembles\n",
        "    input = nengo.Ensemble(N*D_inp, dimensions=D_inp, label=\"input\") \n",
        "    answer = nengo.Ensemble(N*D_out, dimensions=D_out, label=\"answer\")\n",
        "    correct_answer = nengo.Ensemble(N*D_out, dimensions=D_out, radius=2, label=\"correct_answer\") \n",
        "    \n",
        "    \n",
        "    #Provide inputs to the network\n",
        "    nengo.Connection(stim, input) \n",
        "    nengo.Connection(stim_ans, correct_answer)\n",
        "    \n",
        "    #Compute error for learning which gets inhibited\n",
        "    error = nengo.Ensemble(N*D_out, dimensions=D_out, radius=2, label=\"error\")  \n",
        "    nengo.Connection(answer, error, transform=1)\n",
        "    nengo.Connection(correct_answer, error, transform=-1)\n",
        "    \n",
        "    #Compute the actual error\n",
        "    actual_error = nengo.Ensemble(N*D_out, dimensions=D_out, label=\"actual_error\")\n",
        "    nengo.Connection(answer, actual_error, transform=1)\n",
        "    nengo.Connection(correct_answer, actual_error, transform=-1)\n",
        "    \n",
        "    #Specify the learning rule and the weight solver\n",
        "    conn = nengo.Connection(input, answer, transform=weights, solver=nengo.solvers.LstsqL2(weights=True)) \n",
        "    conn.learning_rule_type={'my_pes': nengo.PES(learning_rate = 1e-4  )}\n",
        "#     conn.learning_rule_type['my_pes'].\n",
        "    \n",
        "    #Provide error for learning\n",
        "    error_conn = nengo.Connection(error, conn.learning_rule['my_pes'])    \n",
        "\n",
        "    #Inhibit learning after the training period\n",
        "    def inhibit(t):\n",
        "        return 2.0 if t > int(factor*samples) else 0.0\n",
        "     \n",
        "    inhib = nengo.Node(inhibit)\n",
        "    nengo.Connection(inhib, error.neurons, transform=[[-1]] * error.n_neurons)"
      ],
      "execution_count": 0,
      "outputs": []
    },
    {
      "metadata": {
        "id": "K05-3YsMFzFk",
        "colab_type": "code",
        "colab": {
          "autoexec": {
            "startup": false,
            "wait_interval": 0
          }
        }
      },
      "cell_type": "code",
      "source": [
        "with model:\n",
        "    input_p = nengo.Probe(input, synapse=0.1)\n",
        "    answer_p = nengo.Probe(answer, synapse=0.1)\n",
        "    correct_answer_p = nengo.Probe(correct_answer, synapse=0.1)\n",
        "    error_p = nengo.Probe(error, synapse=0.1)   \n",
        "    actual_error = nengo.Probe(actual_error, synapse=0.1)"
      ],
      "execution_count": 0,
      "outputs": []
    },
    {
      "metadata": {
        "id": "5Smyb4D0GOPy",
        "colab_type": "code",
        "colab": {
          "autoexec": {
            "startup": false,
            "wait_interval": 0
          },
          "base_uri": "https://localhost:8080/",
          "height": 76
        },
        "outputId": "820410d9-c6ca-474d-c753-73be4f321ecd",
        "executionInfo": {
          "status": "ok",
          "timestamp": 1532009340207,
          "user_tz": -330,
          "elapsed": 143274,
          "user": {
            "displayName": "Monk Programmer",
            "photoUrl": "//lh3.googleusercontent.com/-oZIiEwyeGXQ/AAAAAAAAAAI/AAAAAAAAABk/1Keui-aWphI/s50-c-k-no/photo.jpg",
            "userId": "115339632766677951856"
          }
        }
      },
      "cell_type": "code",
      "source": [
        "sim = nengo.Simulator(model)\n",
        "sim.run(sim_time)\n",
        "t = sim.trange()"
      ],
      "execution_count": 0,
      "outputs": [
        {
          "output_type": "display_data",
          "data": {
            "text/html": [
              "\n",
              "                <div id=\"b52de65b-6342-4629-8217-09a4e24a965b\" style=\"\n",
              "                    width: 100%;\n",
              "                    border: 1px solid #cfcfcf;\n",
              "                    border-radius: 4px;\n",
              "                    text-align: center;\n",
              "                    position: relative;\">\n",
              "                  <div class=\"pb-text\" style=\"\n",
              "                      position: absolute;\n",
              "                      width: 100%;\">\n",
              "                    0%\n",
              "                  </div>\n",
              "                  <div class=\"pb-fill\" style=\"\n",
              "                      background-color: #bdd2e6;\n",
              "                      width: 0%;\">\n",
              "                    <style type=\"text/css\" scoped=\"scoped\">\n",
              "                        @keyframes pb-fill-anim {\n",
              "                            0% { background-position: 0 0; }\n",
              "                            100% { background-position: 100px 0; }\n",
              "                        }\n",
              "                    </style>\n",
              "                    &nbsp;\n",
              "                  </div>\n",
              "                </div>"
            ],
            "text/plain": [
              "HtmlProgressBar cannot be displayed. Please use the TerminalProgressBar. It can be enabled with `nengo.rc.set('progress', 'progress_bar', 'nengo.utils.progress.TerminalProgressBar')`."
            ]
          },
          "metadata": {
            "tags": []
          }
        },
        {
          "output_type": "display_data",
          "data": {
            "application/javascript": [
              "\n",
              "              (function () {\n",
              "                  var root = document.getElementById('b52de65b-6342-4629-8217-09a4e24a965b');\n",
              "                  var text = root.getElementsByClassName('pb-text')[0];\n",
              "                  var fill = root.getElementsByClassName('pb-fill')[0];\n",
              "\n",
              "                  text.innerHTML = 'Build finished in 0:00:01.';\n",
              "                  \n",
              "            fill.style.width = '100%';\n",
              "            fill.style.animation = 'pb-fill-anim 2s linear infinite';\n",
              "            fill.style.backgroundSize = '100px 100%';\n",
              "            fill.style.backgroundImage = 'repeating-linear-gradient(' +\n",
              "                '90deg, #bdd2e6, #edf2f8 40%, #bdd2e6 80%, #bdd2e6)';\n",
              "        \n",
              "                  \n",
              "                fill.style.animation = 'none';\n",
              "                fill.style.backgroundImage = 'none';\n",
              "            \n",
              "              })();\n",
              "        "
            ],
            "text/plain": [
              "<IPython.core.display.Javascript object>"
            ]
          },
          "metadata": {
            "tags": []
          }
        },
        {
          "output_type": "display_data",
          "data": {
            "text/html": [
              "\n",
              "                <div id=\"81247f81-a47e-4345-8368-6bbe6f7f2652\" style=\"\n",
              "                    width: 100%;\n",
              "                    border: 1px solid #cfcfcf;\n",
              "                    border-radius: 4px;\n",
              "                    text-align: center;\n",
              "                    position: relative;\">\n",
              "                  <div class=\"pb-text\" style=\"\n",
              "                      position: absolute;\n",
              "                      width: 100%;\">\n",
              "                    0%\n",
              "                  </div>\n",
              "                  <div class=\"pb-fill\" style=\"\n",
              "                      background-color: #bdd2e6;\n",
              "                      width: 0%;\">\n",
              "                    <style type=\"text/css\" scoped=\"scoped\">\n",
              "                        @keyframes pb-fill-anim {\n",
              "                            0% { background-position: 0 0; }\n",
              "                            100% { background-position: 100px 0; }\n",
              "                        }\n",
              "                    </style>\n",
              "                    &nbsp;\n",
              "                  </div>\n",
              "                </div>"
            ],
            "text/plain": [
              "HtmlProgressBar cannot be displayed. Please use the TerminalProgressBar. It can be enabled with `nengo.rc.set('progress', 'progress_bar', 'nengo.utils.progress.TerminalProgressBar')`."
            ]
          },
          "metadata": {
            "tags": []
          }
        },
        {
          "output_type": "display_data",
          "data": {
            "application/javascript": [
              "\n",
              "              (function () {\n",
              "                  var root = document.getElementById('81247f81-a47e-4345-8368-6bbe6f7f2652');\n",
              "                  var text = root.getElementsByClassName('pb-text')[0];\n",
              "                  var fill = root.getElementsByClassName('pb-fill')[0];\n",
              "\n",
              "                  text.innerHTML = 'Simulation finished in 0:02:21.';\n",
              "                  \n",
              "            if (100.0 > 0.) {\n",
              "                fill.style.transition = 'width 0.1s linear';\n",
              "            } else {\n",
              "                fill.style.transition = 'none';\n",
              "            }\n",
              "\n",
              "            fill.style.width = '100.0%';\n",
              "            fill.style.animation = 'none';\n",
              "            fill.style.backgroundImage = 'none'\n",
              "        \n",
              "                  \n",
              "                fill.style.animation = 'none';\n",
              "                fill.style.backgroundImage = 'none';\n",
              "            \n",
              "              })();\n",
              "        "
            ],
            "text/plain": [
              "<IPython.core.display.Javascript object>"
            ]
          },
          "metadata": {
            "tags": []
          }
        }
      ]
    },
    {
      "metadata": {
        "id": "sPdIJvfzH9QF",
        "colab_type": "code",
        "colab": {
          "autoexec": {
            "startup": false,
            "wait_interval": 0
          },
          "base_uri": "https://localhost:8080/",
          "height": 1928
        },
        "outputId": "ba99eed0-f5cc-40cc-baf5-bf535b2b9174",
        "executionInfo": {
          "status": "ok",
          "timestamp": 1532009348416,
          "user_tz": -330,
          "elapsed": 2539,
          "user": {
            "displayName": "Monk Programmer",
            "photoUrl": "//lh3.googleusercontent.com/-oZIiEwyeGXQ/AAAAAAAAAAI/AAAAAAAAABk/1Keui-aWphI/s50-c-k-no/photo.jpg",
            "userId": "115339632766677951856"
          }
        }
      },
      "cell_type": "code",
      "source": [
        "fig = plt.figure(figsize=(18,18))\n",
        "p1 = fig.add_subplot(4,1,1)\n",
        "p1.plot(t, sim.data[answer_p])\n",
        "p1.set_title(\"Answer\")\n",
        "p1.set_xlim(int(factor*samples)-10,sim_time)\n",
        "p1.set_ylim(-0.2,1.2)\n",
        "\n",
        "p2 = fig.add_subplot(4,1,2)\n",
        "p2.plot(t, sim.data[correct_answer_p])\n",
        "p2.set_title(\"Correct Answer\")\n",
        "p2.set_xlim(int(factor*samples)-10,sim_time)\n",
        "\n",
        "p3 = fig.add_subplot(4,1,3)\n",
        "p3.plot(t, sim.data[error_p])\n",
        "p3.set_title(\"Error\")\n",
        "p3.set_xlim(int(factor*samples)-10,sim_time)\n",
        "\n",
        "p4 = fig.add_subplot(4,1,4)\n",
        "p4.plot(t, sim.data[actual_error])\n",
        "p4.set_title(\"Acutal Error\")\n",
        "p4.set_xlim(int(factor*samples)-10,sim_time)\n",
        "\n",
        "\n",
        "for i in zip(sim.data[answer_p].tolist()[:50],sim.data[correct_answer_p].tolist()[:50]):\n",
        "  first=i[0]\n",
        "  second = i[1]\n",
        "  print(\"predicted {} correct {}\".format(first.index(max(first)),second.index(max(second))))\n"
      ],
      "execution_count": 0,
      "outputs": [
        {
          "output_type": "stream",
          "text": [
            "predicted 0 correct 0\n",
            "predicted 0 correct 0\n",
            "predicted 1 correct 1\n",
            "predicted 1 correct 1\n",
            "predicted 1 correct 0\n",
            "predicted 1 correct 0\n",
            "predicted 1 correct 1\n",
            "predicted 1 correct 1\n",
            "predicted 1 correct 1\n",
            "predicted 1 correct 1\n",
            "predicted 1 correct 1\n",
            "predicted 1 correct 1\n",
            "predicted 1 correct 1\n",
            "predicted 1 correct 1\n",
            "predicted 1 correct 1\n",
            "predicted 1 correct 1\n",
            "predicted 1 correct 1\n",
            "predicted 1 correct 1\n",
            "predicted 1 correct 1\n",
            "predicted 1 correct 1\n",
            "predicted 1 correct 1\n",
            "predicted 1 correct 1\n",
            "predicted 1 correct 1\n",
            "predicted 1 correct 1\n",
            "predicted 1 correct 1\n",
            "predicted 1 correct 1\n",
            "predicted 1 correct 1\n",
            "predicted 1 correct 1\n",
            "predicted 1 correct 1\n",
            "predicted 1 correct 1\n",
            "predicted 1 correct 1\n",
            "predicted 1 correct 1\n",
            "predicted 1 correct 1\n",
            "predicted 1 correct 1\n",
            "predicted 1 correct 1\n",
            "predicted 1 correct 1\n",
            "predicted 1 correct 1\n",
            "predicted 1 correct 1\n",
            "predicted 1 correct 1\n",
            "predicted 1 correct 1\n",
            "predicted 1 correct 1\n",
            "predicted 1 correct 1\n",
            "predicted 1 correct 1\n",
            "predicted 1 correct 1\n",
            "predicted 1 correct 1\n",
            "predicted 1 correct 1\n",
            "predicted 1 correct 1\n",
            "predicted 1 correct 1\n",
            "predicted 1 correct 1\n",
            "predicted 1 correct 1\n"
          ],
          "name": "stdout"
        },
        {
          "output_type": "display_data",
          "data": {
            "image/png": "[encoded data removed]",
            "text/plain": [
              "<matplotlib.figure.Figure at 0x7f99e8c6ae80>"
            ]
          },
          "metadata": {
            "tags": []
          }
        }
      ]
    },
    {
      "metadata": {
        "id": "x3R33FOsIs_F",
        "colab_type": "code",
        "colab": {
          "autoexec": {
            "startup": false,
            "wait_interval": 0
          }
        }
      },
      "cell_type": "code",
      "source": [
        ""
      ],
      "execution_count": 0,
      "outputs": []
    }
  ]
}